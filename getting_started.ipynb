{
 "cells": [
  {
   "cell_type": "markdown",
   "metadata": {},
   "source": [
    "# DL4CV - Session 1:: Getting started\n",
    "\n",
    "Welcome to the first session of DL4CV &#x1F600;\n",
    "\n",
    "This session is pretty straight forward, the goal is to:\n",
    "- Set your python virtual environment (which will use for the rest of the practical sessions)\n",
    "- Get familiar with github classroom and how you are going to be submitting your work throughout the semester.  \n",
    "\n",
    "--   \n",
    "Matías Di Martino, 2025.  \n",
    "matias.dimartino@ucu.edu.uy\n"
   ]
  },
  {
   "cell_type": "markdown",
   "metadata": {},
   "source": [
    "## Task 1: Set up your python environment \n",
    "Check README.m, for instructions, create and set your python environment. "
   ]
  },
  {
   "cell_type": "code",
   "execution_count": 4,
   "metadata": {},
   "outputs": [
    {
     "name": "stdout",
     "output_type": "stream",
     "text": [
      "hellp world\n"
     ]
    }
   ],
   "source": [
    "# Test that the notebook is working \n",
    "print('hellp world')"
   ]
  },
  {
   "cell_type": "code",
   "execution_count": 5,
   "metadata": {},
   "outputs": [
    {
     "name": "stdout",
     "output_type": "stream",
     "text": [
      "3.10.16 (main, Dec 11 2024, 10:22:29) [Clang 14.0.6 ]\n"
     ]
    }
   ],
   "source": [
    "import sys\n",
    "print(sys.version)\n",
    "# Should be 3.10.X"
   ]
  },
  {
   "cell_type": "code",
   "execution_count": 6,
   "metadata": {},
   "outputs": [
    {
     "name": "stdout",
     "output_type": "stream",
     "text": [
      "['/Users/matiasdimartino/miniconda3/envs/dlfcv2025/lib/python310.zip', '/Users/matiasdimartino/miniconda3/envs/dlfcv2025/lib/python3.10', '/Users/matiasdimartino/miniconda3/envs/dlfcv2025/lib/python3.10/lib-dynload', '', '/Users/matiasdimartino/miniconda3/envs/dlfcv2025/lib/python3.10/site-packages', '/Users/matiasdimartino/Dropbox/Work/ucu/teaching/DL4CV/2025/labs/DLfCV2025_wSolutions/Session1/test']\n",
      "✅ Environment matches requirements.txt\n"
     ]
    }
   ],
   "source": [
    "# Add the test directory to the Python path\n",
    "import os\n",
    "import sys\n",
    "module_path = os.path.abspath(os.path.join('test'))\n",
    "if module_path not in sys.path:\n",
    "    sys.path.append(module_path)\n",
    "print(sys.path)\n",
    "\n",
    "from test_environment import test_environment_matches_requirements\n",
    "\n",
    "# Check that the dependencies were installed correctly\n",
    "try:\n",
    "    test_environment_matches_requirements(requirements_path='test/requirements.txt')\n",
    "    print(\"✅ Environment matches requirements.txt\")\n",
    "except AssertionError as e:\n",
    "    print(\"❌ Environment check failed:\")\n",
    "    print(str(e))\n",
    "except FileNotFoundError:\n",
    "    print(\"❌ Error: requirements.txt not found\")\n",
    "except Exception as e:\n",
    "    print(f\"❌ Unexpected error: {str(e)}\")"
   ]
  },
  {
   "cell_type": "markdown",
   "metadata": {},
   "source": [
    "## Task 2: Create a simple solution and get familiar with the submission process \n",
    "Implement the function `adding_two_numbers` in the `solution.py` file.  \n",
    "Then submit your solution to the first assignment, and you can check the results of your submission on github classroom. "
   ]
  },
  {
   "cell_type": "code",
   "execution_count": 7,
   "metadata": {},
   "outputs": [
    {
     "name": "stdout",
     "output_type": "stream",
     "text": [
      "3\n"
     ]
    }
   ],
   "source": [
    "from solution import adding_two_numbers\n",
    "c = adding_two_numbers(1, 2)\n",
    "print(c)\n"
   ]
  },
  {
   "cell_type": "code",
   "execution_count": null,
   "metadata": {},
   "outputs": [],
   "source": []
  }
 ],
 "metadata": {
  "kernelspec": {
   "display_name": "dlfcv2025",
   "language": "python",
   "name": "python3"
  },
  "language_info": {
   "codemirror_mode": {
    "name": "ipython",
    "version": 3
   },
   "file_extension": ".py",
   "mimetype": "text/x-python",
   "name": "python",
   "nbconvert_exporter": "python",
   "pygments_lexer": "ipython3",
   "version": "3.10.16"
  }
 },
 "nbformat": 4,
 "nbformat_minor": 2
}
